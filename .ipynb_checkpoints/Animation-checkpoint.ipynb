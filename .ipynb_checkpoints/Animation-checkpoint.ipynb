{
 "cells": [
  {
   "cell_type": "code",
   "execution_count": 7,
   "metadata": {},
   "outputs": [
    {
     "name": "stdout",
     "output_type": "stream",
     "text": [
      "Using matplotlib backend: Qt5Agg\n"
     ]
    }
   ],
   "source": [
    "import numpy as np\n",
    "import matplotlib.pyplot as plt\n",
    "import iris\n",
    "import iris.plot as iplt\n",
    "import iris.quickplot as qplt\n",
    "from iris.experimental.animate import animate\n",
    "%matplotlib"
   ]
  },
  {
   "cell_type": "code",
   "execution_count": null,
   "metadata": {},
   "outputs": [],
   "source": []
  },
  {
   "cell_type": "code",
   "execution_count": null,
   "metadata": {},
   "outputs": [],
   "source": [
    "\n"
   ]
  },
  {
   "cell_type": "code",
   "execution_count": 3,
   "metadata": {},
   "outputs": [
    {
     "name": "stdout",
     "output_type": "stream",
     "text": [
      "wave_anomalies / (1)                (time: 45; latitude: 49; longitude: 360)\n",
      "     Dimension coordinates:\n",
      "          time                           x             -              -\n",
      "          latitude                       -             x              -\n",
      "          longitude                      -             -              x\n",
      "     Scalar coordinates:\n",
      "          pressure: 200.0 hPa\n",
      "          wave_name: 0, bound=(-0.5, 0.5)\n",
      "     Attributes:\n",
      "          Conventions: CF-1.5\n",
      "          Kelvin: 0\n",
      "          R1: 2\n",
      "          R2: 3\n",
      "          WMRG: 1\n"
     ]
    }
   ],
   "source": [
    "file= '/project/MJO_GCSS/Eqwaves_monitoring/processed_wave_data/z_wave_Kelvin_20191105_12Z_000.nc'\n",
    "cubes = iris.load_cube(file)[:,0]\n",
    "ntime = len(cubes.coord('time').points)\n",
    "print(cubes)"
   ]
  },
  {
   "cell_type": "code",
   "execution_count": 85,
   "metadata": {},
   "outputs": [],
   "source": [
    "def anim_plot(cubes, vmin=None, vmax=None, coords=None):\n",
    "    z_levels = [-10, -8, -6, -4, -2, 2, 4, 6, 8, 10]\n",
    "    t = cubes.coord('time').points[0]\n",
    "    time_label = 'Z (shades, m), Convergence (contours, x 10e6 s-1) \\n'\n",
    "    time_label += str(cubes.coord('time')).split('[')[1].split(']')[0]\n",
    "    time_label += ' [T=%sH]' %t\n",
    "    qplt.contourf(cubes, levels=z_levels, cmap='RdBu', extend='both')\n",
    "    plt.title(time_label)\n",
    "    plt.gca().coastlines()\n"
   ]
  },
  {
   "cell_type": "code",
   "execution_count": 86,
   "metadata": {},
   "outputs": [],
   "source": [
    "cube_iter = cubes.slices(('longitude', 'latitude'))\n",
    "time_label = 'Z (shades, m), Convergence (contours, x 10e6 s-1)'\n",
    "ani = animate(cube_iter, anim_plot)\n",
    "\n",
    "ani.save('kelvin.mp4', fps=15)\n",
    "#plt.show()"
   ]
  },
  {
   "cell_type": "code",
   "execution_count": 69,
   "metadata": {},
   "outputs": [
    {
     "name": "stdout",
     "output_type": "stream",
     "text": [
      "2019-11-01 12:00:00\n"
     ]
    }
   ],
   "source": [
    "\n",
    "print(str(cubes[0].coord('time')).split('[')[1].split(']')[0])\n"
   ]
  },
  {
   "cell_type": "code",
   "execution_count": null,
   "metadata": {},
   "outputs": [],
   "source": []
  }
 ],
 "metadata": {
  "kernelspec": {
   "display_name": "Python 3",
   "language": "python",
   "name": "python3"
  },
  "language_info": {
   "codemirror_mode": {
    "name": "ipython",
    "version": 3
   },
   "file_extension": ".py",
   "mimetype": "text/x-python",
   "name": "python",
   "nbconvert_exporter": "python",
   "pygments_lexer": "ipython3",
   "version": "3.6.8"
  }
 },
 "nbformat": 4,
 "nbformat_minor": 2
}
